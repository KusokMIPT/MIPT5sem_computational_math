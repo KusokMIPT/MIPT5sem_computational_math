{
 "cells": [
  {
   "cell_type": "markdown",
   "metadata": {},
   "source": [
    "# Метод Зейделя"
   ]
  },
  {
   "cell_type": "code",
   "execution_count": 32,
   "metadata": {},
   "outputs": [
    {
     "name": "stdout",
     "output_type": "stream",
     "text": [
      "Number of iterations:  47\n",
      "Solution:  [ 0.78844473 -0.9755092   0.41335505  0.43553708 -0.03418871  0.03262973\n",
      " -0.19348486 -0.34331746]\n",
      "Python soliton:  [ 0.7884447  -0.97550914  0.41335503  0.43553705 -0.0341887   0.03262972\n",
      " -0.19348485 -0.34331743]\n",
      "Differences 7.909256807733081e-08\n"
     ]
    },
    {
     "data": {
      "image/png": "[encoded data removed]",
      "text/plain": [
       "<Figure size 576x432 with 1 Axes>"
      ]
     },
     "metadata": {
      "needs_background": "light"
     },
     "output_type": "display_data"
    }
   ],
   "source": [
    "import numpy as np\n",
    "from scipy import linalg\n",
    "import matplotlib.pyplot as plt\n",
    "\n",
    "def mv_prod (A, b):\n",
    "    n = A.shape[1]\n",
    "    c = np.zeros(n)\n",
    "    for i in range(n):\n",
    "        for j in range(n):\n",
    "            c[i] += A[i][j]*b[j] \n",
    "    return c\n",
    "\n",
    "def solve_ls(A, b):\n",
    "    xk_next = np.zeros(size)\n",
    "    discrepancy_l = [np.linalg.norm(mv_prod(A, xk_next) - b)]\n",
    "    iteration_num = 1\n",
    "    \n",
    "    while (np.linalg.norm(mv_prod(A, xk_next) - b) > tol and iteration_num < max_it):\n",
    "        iteration_num += 1\n",
    "        xk = np.copy(xk_next)\n",
    "        for i in range(size):\n",
    "            xk_next[i] = b[i]\n",
    "            for j in range(i): \n",
    "                xk_next[i] -= A[i, j] * xk_next[j]\n",
    "            for j in range(i + 1, size):\n",
    "                xk_next[i] -= A[i, j] * xk[j]\n",
    "            \n",
    "            xk_next[i] /= A[i, i]\n",
    "        discrepancy_l.append(np.linalg.norm(mv_prod(A, xk_next) - b))\n",
    "    \n",
    "    return (xk_next, discrepancy_l)\n",
    "        \n",
    "\n",
    "size = 8\n",
    "np.random.seed(0)\n",
    "L = np.tril(np.random.rand(size, size), 1)\n",
    "L2 = np.tril(np.random.rand(size, size), 1.5)\n",
    "\n",
    "A = 2*L + L2 + np.diag(np.random.rand(size)) + np.eye(size)\n",
    "b = np.array([np.random.rand() for i in range(size)])\n",
    "tol = 10e-8\n",
    "max_it = 10e5\n",
    "\n",
    "solution, residual_list = solve_ls(A, b)\n",
    "\n",
    "plt.figure(figsize = (8,6))\n",
    "plt.grid()\n",
    "plt.plot(range(1, len(residual_list) + 1), [np.log(i) for i in residual_list])\n",
    "\n",
    "solution_numpy = np.linalg.solve(A, b)\n",
    "print(\"Number of iterations: \", len(residual_list))\n",
    "print(\"Solution: \", solution)\n",
    "print(\"Python soliton: \", solution_numpy)\n",
    "print(\"Differences\", np.linalg.norm(solution - solution_numpy, 2))"
   ]
  },
  {
   "cell_type": "code",
   "execution_count": null,
   "metadata": {},
   "outputs": [],
   "source": []
  }
 ],
 "metadata": {
  "kernelspec": {
   "display_name": "Python 3",
   "language": "python",
   "name": "python3"
  },
  "language_info": {
   "codemirror_mode": {
    "name": "ipython",
    "version": 3
   },
   "file_extension": ".py",
   "mimetype": "text/x-python",
   "name": "python",
   "nbconvert_exporter": "python",
   "pygments_lexer": "ipython3",
   "version": "3.7.4"
  }
 },
 "nbformat": 4,
 "nbformat_minor": 2
}
