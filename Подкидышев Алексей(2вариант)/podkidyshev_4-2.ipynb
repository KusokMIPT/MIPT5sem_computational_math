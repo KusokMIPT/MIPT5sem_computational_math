{
 "cells": [
  {
   "cell_type": "markdown",
   "metadata": {},
   "source": [
    "# Подкидышев Алексей. Задача 4_2"
   ]
  },
  {
   "cell_type": "code",
   "execution_count": 1,
   "metadata": {},
   "outputs": [],
   "source": [
    "# удобная функия для построения графиков\n",
    "def plot_( x,y_arr, title_str = None, ylim= None):    \n",
    "    plt.figure(figsize=(15, 6))\n",
    "    plt.grid()\n",
    "    \n",
    "    plt.title(title_str) \n",
    "    \n",
    "    for i in range(len(y_arr)):\n",
    "        if x is None:\n",
    "            x = np.arange(1, len(y_arr[i]) + 1)\n",
    "        plt.plot(x, y_arr[i])\n",
    "        \n",
    "    plt.xlabel('x')\n",
    "    plt.ylabel('y')\n",
    "    \n",
    "    \n",
    "    plt.legend(fontsize=16)\n",
    "    plt.show()"
   ]
  },
  {
   "cell_type": "code",
   "execution_count": 2,
   "metadata": {},
   "outputs": [],
   "source": [
    "import tqdm\n",
    "from tqdm import tnrange"
   ]
  },
  {
   "cell_type": "markdown",
   "metadata": {},
   "source": [
    "## Матрицы дифференцирования для чебышёвских узлов"
   ]
  },
  {
   "cell_type": "markdown",
   "metadata": {},
   "source": [
    "$$x_k = \\dfrac{1}{2}(a + b) + \\dfrac{1}{2}(b-a)\\cos{\\dfrac{2k-1}{2n}\\pi}, \\text{где } k \\in \\{\\overline{1, n} \\} $$"
   ]
  },
  {
   "cell_type": "code",
   "execution_count": 3,
   "metadata": {},
   "outputs": [],
   "source": [
    "# считает узлы чебышева\n",
    "import numpy as np\n",
    "\n",
    "def calc_cheb_nodes(a, b, num_knot):\n",
    "    k = (np.arange(num_knot) + 1 )[-1::-1]\n",
    "    return (a+b)/2 + (b - a)/2 * np.cos((2*k - 1) /(2 * num_knot) * np.pi)"
   ]
  },
  {
   "cell_type": "markdown",
   "metadata": {},
   "source": [
    "Строим матрицу так, чтобы при умножении ее на вектор из значений функции в узлах получился вектор из производных."
   ]
  },
  {
   "cell_type": "code",
   "execution_count": 4,
   "metadata": {},
   "outputs": [],
   "source": [
    "def calc_matrix(a,b,num_knot):\n",
    "    # получамемф узлы\n",
    "    knots = calc_cheb_nodes(a, b, num_knot)\n",
    "    M = np.zeros((num_knot, num_knot))\n",
    "    \n",
    "    for k in range(1, num_knot - 1):\n",
    "        M[k][k + 1] = 1 / (knots[k + 1] - knots[k - 1])\n",
    "        M[k][k - 1] = -M[k][k + 1]\n",
    "    \n",
    "    M[0][1] = 1 / (knots[1] - knots[0])\n",
    "    M[0][0] = -M[0][1]\n",
    "    M[-1][-1] = 1/(knots[-1] - knots[-2])\n",
    "    M[-1][-2] = -M[-1][-1]\n",
    "    \n",
    "    return M"
   ]
  },
  {
   "cell_type": "markdown",
   "metadata": {},
   "source": [
    "Проверим на $f(x) = \\sin{x}$. Значение  $num knot \\in \\overline{10, 10^4 } $"
   ]
  },
  {
   "cell_type": "code",
   "execution_count": 5,
   "metadata": {},
   "outputs": [
    {
     "data": {
      "application/vnd.jupyter.widget-view+json": {
       "model_id": "6869d6805628400bae844557b1f2b257",
       "version_major": 2,
       "version_minor": 0
      },
      "text/plain": [
       "HBox(children=(IntProgress(value=0, max=990), HTML(value='')))"
      ]
     },
     "metadata": {},
     "output_type": "display_data"
    },
    {
     "name": "stdout",
     "output_type": "stream",
     "text": [
      "\n"
     ]
    }
   ],
   "source": [
    "import random\n",
    "import matplotlib.pyplot as plt\n",
    "\n",
    "err = list()\n",
    "a = random.randint(1, 10)\n",
    "b = a + 10\n",
    "f = lambda x: np.sin(x)\n",
    "df = lambda x: np.cos(x)\n",
    "test_knots_arr = np.arange(10,10**3)\n",
    "\n",
    "for num_knot in tnrange(10,10**3):\n",
    "    cur_knots = calc_cheb_nodes(a, b, num_knot)\n",
    "    #M = calc_matrix(a, b, num_knot, f)\n",
    "    derivatives_value = calc_matrix(a, b, num_knot) @ np.array([f(d) for d in cur_knots])\n",
    "    cur_err = np.array([df(d) for d in cur_knots]) - derivatives_value\n",
    "    \n",
    "    err.append(np.linalg.norm(cur_err, ord=np.inf))\n",
    "\n",
    "\n"
   ]
  },
  {
   "cell_type": "code",
   "execution_count": 6,
   "metadata": {},
   "outputs": [],
   "source": [
    "err = np.log(np.array(err))"
   ]
  },
  {
   "cell_type": "code",
   "execution_count": 7,
   "metadata": {},
   "outputs": [
    {
     "name": "stderr",
     "output_type": "stream",
     "text": [
      "No handles with labels found to put in legend.\n"
     ]
    },
    {
     "data": {
      "image/png": "[encoded data removed]",
      "text/plain": [
       "<Figure size 1080x432 with 1 Axes>"
      ]
     },
     "metadata": {
      "needs_background": "light"
     },
     "output_type": "display_data"
    }
   ],
   "source": [
    "plot_(np.log(test_knots_arr), [err], title_str = 'Норма ошибки вычисления производных в узлах в зависимости от числа узлов')"
   ]
  }
 ],
 "metadata": {
  "kernelspec": {
   "display_name": "Python 3",
   "language": "python",
   "name": "python3"
  },
  "language_info": {
   "codemirror_mode": {
    "name": "ipython",
    "version": 3
   },
   "file_extension": ".py",
   "mimetype": "text/x-python",
   "name": "python",
   "nbconvert_exporter": "python",
   "pygments_lexer": "ipython3",
   "version": "3.7.4"
  }
 },
 "nbformat": 4,
 "nbformat_minor": 2
}
