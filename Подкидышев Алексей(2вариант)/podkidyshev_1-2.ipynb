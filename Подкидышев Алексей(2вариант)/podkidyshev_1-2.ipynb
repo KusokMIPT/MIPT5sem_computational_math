{
 "cells": [
  {
   "cell_type": "markdown",
   "metadata": {},
   "source": [
    "# Подкидышев Алексей - 2 вариант, 792 группа"
   ]
  },
  {
   "cell_type": "code",
   "execution_count": 12,
   "metadata": {},
   "outputs": [
    {
     "name": "stdout",
     "output_type": "stream",
     "text": [
      "||x_1 - x_2|| =  6.683655571789973e-13\n"
     ]
    }
   ],
   "source": [
    "import numpy as np\n",
    "import copy\n",
    "from scipy import linalg as scpla\n",
    "\n",
    "def swap_columns(matrix, i, j):\n",
    "    matrix[:, [i, j]] = matrix[:, [j, i]]\n",
    "\n",
    "def lu_sum(L, U, l_i, u_i, i):\n",
    "    sum = 0\n",
    "    for k in range(i):\n",
    "        sum += L[l_i][k] * U[k][u_i]\n",
    "    return sum\n",
    "\n",
    "def lu_permutation(A, n):\n",
    "    Q = np.eye(n)\n",
    "    for i in range(n - 1):\n",
    "        maxx = A[i][i]\n",
    "        for j in range(i, n):\n",
    "            if maxx < A[i][j]:\n",
    "                maxx = A[i][j]\n",
    "                swap_columns(Q, i, j)\n",
    "                swap_columns(A, i, j)\n",
    "    return Q, A\n",
    "\n",
    "\n",
    "def luq_decomposition(A, n):\n",
    "    n = A.shape[1]\n",
    "    \n",
    "    L = np.zeros((n, n))\n",
    "    U = np.zeros((n, n))\n",
    "\n",
    "    for j in range(n):\n",
    "        U[0][j] = A[0][j]\n",
    "        L[j][0] = A[j][0] / U[0][0]\n",
    "    for i in range(1, n):\n",
    "        for j in range(i, n):\n",
    "            U[i][j] = A[i][j] - lu_sum(L, U, i, j, i)\n",
    "            L[j][i] = (A[j][i] - lu_sum(L, U, j, i, i)) / U[i][i]\n",
    "    return L, U\n",
    "\n",
    "def solve_triangle(A, b, is_upper):\n",
    "    n = A.shape[0]\n",
    "    x = [0] * n\n",
    "    sum_ = 0\n",
    "    for k in range(n) if not is_upper else range(n - 1, -1, - 1):\n",
    "        x[k] = (b[k] - sum_) / A[k][k]\n",
    "        sum_ = 0\n",
    "        range_variance = range(k + 1) \n",
    "        if is_upper:\n",
    "            range_variance = range(n - 1, k - 1, -1)\n",
    "        for t in range_variance:\n",
    "            if not is_upper and k < n - 1:\n",
    "                sum_ += A[k + 1][t] * x[t]\n",
    "            elif is_upper and k > 0:\n",
    "                sum_ += A[k - 1][t] * x[t]\n",
    "    return np.array(x)\n",
    "\n",
    "def luq_solve(A, b, n):\n",
    "    Q, A = lu_permutation(A, n)\n",
    "    L, U = luq_decomposition(A,n)\n",
    "\n",
    "    y = solve_triangle(L, b, False)\n",
    "    x = solve_triangle(U, y, True)\n",
    "    return x\n",
    "\n",
    "\n",
    "N = 10\n",
    "\n",
    "A = np.random.rand(N, N)\n",
    "b = np.random.rand(N)\n",
    "\n",
    "x1 = luq_solve(A, b, N)\n",
    "x2 = np.linalg.solve(A, b)\n",
    "\n",
    "print(r'||x_1 - x_2|| = ', np.linalg.norm(x1 - x2))"
   ]
  },
  {
   "cell_type": "markdown",
   "metadata": {},
   "source": [
    "## Тест на нескольких значениях"
   ]
  },
  {
   "cell_type": "code",
   "execution_count": 13,
   "metadata": {},
   "outputs": [
    {
     "name": "stdout",
     "output_type": "stream",
     "text": [
      "N: 10  ||x_1 - x_2|| =  1.4812222630807097e-15\n",
      "N: 11  ||x_1 - x_2|| =  4.323431409102251e-14\n",
      "N: 12  ||x_1 - x_2|| =  7.120857621955692e-13\n",
      "N: 13  ||x_1 - x_2|| =  1.805269238128723e-14\n",
      "N: 14  ||x_1 - x_2|| =  1.1602748252211361e-14\n",
      "N: 15  ||x_1 - x_2|| =  1.0171182072105173e-13\n",
      "N: 16  ||x_1 - x_2|| =  1.0885034705993386e-14\n",
      "N: 17  ||x_1 - x_2|| =  1.2988660444884215e-14\n",
      "N: 18  ||x_1 - x_2|| =  1.066032889594079e-13\n",
      "N: 19  ||x_1 - x_2|| =  3.5348157189994726e-13\n"
     ]
    }
   ],
   "source": [
    "for N in range(10,20):\n",
    "    A = np.random.rand(N, N)\n",
    "    b = np.random.rand(N)\n",
    "\n",
    "    x1 = luq_solve(A, b, N)\n",
    "    x2 = np.linalg.solve(A, b)\n",
    "\n",
    "    print('N:', N, r' ||x_1 - x_2|| = ', np.linalg.norm(x1 - x2))"
   ]
  },
  {
   "cell_type": "code",
   "execution_count": null,
   "metadata": {},
   "outputs": [],
   "source": []
  }
 ],
 "metadata": {
  "kernelspec": {
   "display_name": "Python 3",
   "language": "python",
   "name": "python3"
  },
  "language_info": {
   "codemirror_mode": {
    "name": "ipython",
    "version": 3
   },
   "file_extension": ".py",
   "mimetype": "text/x-python",
   "name": "python",
   "nbconvert_exporter": "python",
   "pygments_lexer": "ipython3",
   "version": "3.7.3"
  }
 },
 "nbformat": 4,
 "nbformat_minor": 2
}
